{
  "cells": [
    {
      "cell_type": "code",
      "execution_count": 12,
      "metadata": {
        "colab": {
          "base_uri": "https://localhost:8080/"
        },
        "id": "SetBKBBoLuH3",
        "outputId": "af0cb705-d2b0-4e9a-8530-c54c6c4416e8"
      },
      "outputs": [
        {
          "output_type": "stream",
          "name": "stdout",
          "text": [
            "Requirement already satisfied: kaggle in /usr/local/lib/python3.12/dist-packages (1.7.4.5)\n",
            "Requirement already satisfied: bleach in /usr/local/lib/python3.12/dist-packages (from kaggle) (6.2.0)\n",
            "Requirement already satisfied: certifi>=14.05.14 in /usr/local/lib/python3.12/dist-packages (from kaggle) (2025.8.3)\n",
            "Requirement already satisfied: charset-normalizer in /usr/local/lib/python3.12/dist-packages (from kaggle) (3.4.3)\n",
            "Requirement already satisfied: idna in /usr/local/lib/python3.12/dist-packages (from kaggle) (3.10)\n",
            "Requirement already satisfied: protobuf in /usr/local/lib/python3.12/dist-packages (from kaggle) (5.29.5)\n",
            "Requirement already satisfied: python-dateutil>=2.5.3 in /usr/local/lib/python3.12/dist-packages (from kaggle) (2.9.0.post0)\n",
            "Requirement already satisfied: python-slugify in /usr/local/lib/python3.12/dist-packages (from kaggle) (8.0.4)\n",
            "Requirement already satisfied: requests in /usr/local/lib/python3.12/dist-packages (from kaggle) (2.32.4)\n",
            "Requirement already satisfied: setuptools>=21.0.0 in /usr/local/lib/python3.12/dist-packages (from kaggle) (75.2.0)\n",
            "Requirement already satisfied: six>=1.10 in /usr/local/lib/python3.12/dist-packages (from kaggle) (1.17.0)\n",
            "Requirement already satisfied: text-unidecode in /usr/local/lib/python3.12/dist-packages (from kaggle) (1.3)\n",
            "Requirement already satisfied: tqdm in /usr/local/lib/python3.12/dist-packages (from kaggle) (4.67.1)\n",
            "Requirement already satisfied: urllib3>=1.15.1 in /usr/local/lib/python3.12/dist-packages (from kaggle) (2.5.0)\n",
            "Requirement already satisfied: webencodings in /usr/local/lib/python3.12/dist-packages (from kaggle) (0.5.1)\n"
          ]
        }
      ],
      "source": [
        "!pip install kaggle"
      ]
    },
    {
      "cell_type": "code",
      "execution_count": 13,
      "metadata": {
        "colab": {
          "base_uri": "https://localhost:8080/",
          "height": 88
        },
        "id": "jLqSu_m3sI_J",
        "outputId": "50ef4b18-f971-40d7-e917-903375ee7501"
      },
      "outputs": [
        {
          "output_type": "display_data",
          "data": {
            "text/plain": [
              "<IPython.core.display.HTML object>"
            ],
            "text/html": [
              "\n",
              "     <input type=\"file\" id=\"files-d63f18ca-40b7-4414-867d-ef35d043513f\" name=\"files[]\" multiple disabled\n",
              "        style=\"border:none\" />\n",
              "     <output id=\"result-d63f18ca-40b7-4414-867d-ef35d043513f\">\n",
              "      Upload widget is only available when the cell has been executed in the\n",
              "      current browser session. Please rerun this cell to enable.\n",
              "      </output>\n",
              "      <script>// Copyright 2017 Google LLC\n",
              "//\n",
              "// Licensed under the Apache License, Version 2.0 (the \"License\");\n",
              "// you may not use this file except in compliance with the License.\n",
              "// You may obtain a copy of the License at\n",
              "//\n",
              "//      http://www.apache.org/licenses/LICENSE-2.0\n",
              "//\n",
              "// Unless required by applicable law or agreed to in writing, software\n",
              "// distributed under the License is distributed on an \"AS IS\" BASIS,\n",
              "// WITHOUT WARRANTIES OR CONDITIONS OF ANY KIND, either express or implied.\n",
              "// See the License for the specific language governing permissions and\n",
              "// limitations under the License.\n",
              "\n",
              "/**\n",
              " * @fileoverview Helpers for google.colab Python module.\n",
              " */\n",
              "(function(scope) {\n",
              "function span(text, styleAttributes = {}) {\n",
              "  const element = document.createElement('span');\n",
              "  element.textContent = text;\n",
              "  for (const key of Object.keys(styleAttributes)) {\n",
              "    element.style[key] = styleAttributes[key];\n",
              "  }\n",
              "  return element;\n",
              "}\n",
              "\n",
              "// Max number of bytes which will be uploaded at a time.\n",
              "const MAX_PAYLOAD_SIZE = 100 * 1024;\n",
              "\n",
              "function _uploadFiles(inputId, outputId) {\n",
              "  const steps = uploadFilesStep(inputId, outputId);\n",
              "  const outputElement = document.getElementById(outputId);\n",
              "  // Cache steps on the outputElement to make it available for the next call\n",
              "  // to uploadFilesContinue from Python.\n",
              "  outputElement.steps = steps;\n",
              "\n",
              "  return _uploadFilesContinue(outputId);\n",
              "}\n",
              "\n",
              "// This is roughly an async generator (not supported in the browser yet),\n",
              "// where there are multiple asynchronous steps and the Python side is going\n",
              "// to poll for completion of each step.\n",
              "// This uses a Promise to block the python side on completion of each step,\n",
              "// then passes the result of the previous step as the input to the next step.\n",
              "function _uploadFilesContinue(outputId) {\n",
              "  const outputElement = document.getElementById(outputId);\n",
              "  const steps = outputElement.steps;\n",
              "\n",
              "  const next = steps.next(outputElement.lastPromiseValue);\n",
              "  return Promise.resolve(next.value.promise).then((value) => {\n",
              "    // Cache the last promise value to make it available to the next\n",
              "    // step of the generator.\n",
              "    outputElement.lastPromiseValue = value;\n",
              "    return next.value.response;\n",
              "  });\n",
              "}\n",
              "\n",
              "/**\n",
              " * Generator function which is called between each async step of the upload\n",
              " * process.\n",
              " * @param {string} inputId Element ID of the input file picker element.\n",
              " * @param {string} outputId Element ID of the output display.\n",
              " * @return {!Iterable<!Object>} Iterable of next steps.\n",
              " */\n",
              "function* uploadFilesStep(inputId, outputId) {\n",
              "  const inputElement = document.getElementById(inputId);\n",
              "  inputElement.disabled = false;\n",
              "\n",
              "  const outputElement = document.getElementById(outputId);\n",
              "  outputElement.innerHTML = '';\n",
              "\n",
              "  const pickedPromise = new Promise((resolve) => {\n",
              "    inputElement.addEventListener('change', (e) => {\n",
              "      resolve(e.target.files);\n",
              "    });\n",
              "  });\n",
              "\n",
              "  const cancel = document.createElement('button');\n",
              "  inputElement.parentElement.appendChild(cancel);\n",
              "  cancel.textContent = 'Cancel upload';\n",
              "  const cancelPromise = new Promise((resolve) => {\n",
              "    cancel.onclick = () => {\n",
              "      resolve(null);\n",
              "    };\n",
              "  });\n",
              "\n",
              "  // Wait for the user to pick the files.\n",
              "  const files = yield {\n",
              "    promise: Promise.race([pickedPromise, cancelPromise]),\n",
              "    response: {\n",
              "      action: 'starting',\n",
              "    }\n",
              "  };\n",
              "\n",
              "  cancel.remove();\n",
              "\n",
              "  // Disable the input element since further picks are not allowed.\n",
              "  inputElement.disabled = true;\n",
              "\n",
              "  if (!files) {\n",
              "    return {\n",
              "      response: {\n",
              "        action: 'complete',\n",
              "      }\n",
              "    };\n",
              "  }\n",
              "\n",
              "  for (const file of files) {\n",
              "    const li = document.createElement('li');\n",
              "    li.append(span(file.name, {fontWeight: 'bold'}));\n",
              "    li.append(span(\n",
              "        `(${file.type || 'n/a'}) - ${file.size} bytes, ` +\n",
              "        `last modified: ${\n",
              "            file.lastModifiedDate ? file.lastModifiedDate.toLocaleDateString() :\n",
              "                                    'n/a'} - `));\n",
              "    const percent = span('0% done');\n",
              "    li.appendChild(percent);\n",
              "\n",
              "    outputElement.appendChild(li);\n",
              "\n",
              "    const fileDataPromise = new Promise((resolve) => {\n",
              "      const reader = new FileReader();\n",
              "      reader.onload = (e) => {\n",
              "        resolve(e.target.result);\n",
              "      };\n",
              "      reader.readAsArrayBuffer(file);\n",
              "    });\n",
              "    // Wait for the data to be ready.\n",
              "    let fileData = yield {\n",
              "      promise: fileDataPromise,\n",
              "      response: {\n",
              "        action: 'continue',\n",
              "      }\n",
              "    };\n",
              "\n",
              "    // Use a chunked sending to avoid message size limits. See b/62115660.\n",
              "    let position = 0;\n",
              "    do {\n",
              "      const length = Math.min(fileData.byteLength - position, MAX_PAYLOAD_SIZE);\n",
              "      const chunk = new Uint8Array(fileData, position, length);\n",
              "      position += length;\n",
              "\n",
              "      const base64 = btoa(String.fromCharCode.apply(null, chunk));\n",
              "      yield {\n",
              "        response: {\n",
              "          action: 'append',\n",
              "          file: file.name,\n",
              "          data: base64,\n",
              "        },\n",
              "      };\n",
              "\n",
              "      let percentDone = fileData.byteLength === 0 ?\n",
              "          100 :\n",
              "          Math.round((position / fileData.byteLength) * 100);\n",
              "      percent.textContent = `${percentDone}% done`;\n",
              "\n",
              "    } while (position < fileData.byteLength);\n",
              "  }\n",
              "\n",
              "  // All done.\n",
              "  yield {\n",
              "    response: {\n",
              "      action: 'complete',\n",
              "    }\n",
              "  };\n",
              "}\n",
              "\n",
              "scope.google = scope.google || {};\n",
              "scope.google.colab = scope.google.colab || {};\n",
              "scope.google.colab._files = {\n",
              "  _uploadFiles,\n",
              "  _uploadFilesContinue,\n",
              "};\n",
              "})(self);\n",
              "</script> "
            ]
          },
          "metadata": {}
        },
        {
          "output_type": "stream",
          "name": "stdout",
          "text": [
            "Saving kaggle.json to kaggle.json\n"
          ]
        },
        {
          "output_type": "execute_result",
          "data": {
            "text/plain": [
              "{'kaggle.json': b'{\"username\":\"eceglevgin\",\"key\":\"9cd4c193c44100d60cfec38f42c18cb3\"}'}"
            ]
          },
          "metadata": {},
          "execution_count": 13
        }
      ],
      "source": [
        "from google.colab import files\n",
        "files.upload()"
      ]
    },
    {
      "cell_type": "code",
      "execution_count": 14,
      "metadata": {
        "id": "Y3JhtpcVsnVg"
      },
      "outputs": [],
      "source": [
        "!mkdir ~/.kaggle\n",
        "!mv kaggle.json ~/.kaggle/\n",
        "!chmod 600 ~/.kaggle/kaggle.json"
      ]
    },
    {
      "cell_type": "code",
      "execution_count": 15,
      "metadata": {
        "colab": {
          "base_uri": "https://localhost:8080/"
        },
        "id": "Bl2r9rm0wSpK",
        "outputId": "d4efea04-da86-4b05-8624-d9fdff8313bb"
      },
      "outputs": [
        {
          "output_type": "stream",
          "name": "stdout",
          "text": [
            "Dataset URL: https://www.kaggle.com/datasets/nezahatkk/traffic-signs-in-turkiye\n",
            "License(s): apache-2.0\n",
            "Downloading traffic-signs-in-turkiye.zip to /content\n",
            " 97% 1.45G/1.49G [00:12<00:01, 34.7MB/s]\n",
            "100% 1.49G/1.49G [00:12<00:00, 132MB/s] \n"
          ]
        }
      ],
      "source": [
        "!kaggle datasets download -d nezahatkk/traffic-signs-in-turkiye"
      ]
    },
    {
      "cell_type": "code",
      "source": [
        "\n",
        "!unzip -q /content/traffic-signs-in-turkiye.zip -d ./traffic_data\n"
      ],
      "metadata": {
        "id": "CJmAuM6UZ2Ok"
      },
      "execution_count": 16,
      "outputs": []
    },
    {
      "cell_type": "code",
      "execution_count": 17,
      "metadata": {
        "id": "_RbvTKaa0lbH"
      },
      "outputs": [],
      "source": [
        "import warnings\n",
        "warnings.filterwarnings(\"ignore\")\n"
      ]
    },
    {
      "cell_type": "code",
      "execution_count": 18,
      "metadata": {
        "id": "9sq6IjqjyMr3"
      },
      "outputs": [],
      "source": [
        "import torch\n",
        "import torch.nn as nn\n",
        "import torch.optim as optim\n",
        "\n",
        "class SimpleCNN(nn.Module):\n",
        "    def __init__(self, num_classes):\n",
        "        super(SimpleCNN, self).__init__()\n",
        "        self.conv1 = nn.Conv2d(3, 32, 3, padding=1)\n",
        "        self.pool = nn.MaxPool2d(2, 2)\n",
        "        self.fc1 = nn.Linear(32*32*32, num_classes)\n",
        "\n",
        "    def forward(self, x):\n",
        "        x = self.pool(torch.relu(self.conv1(x)))\n",
        "        x = x.view(x.size(0), -1)\n",
        "        x = self.fc1(x)\n",
        "        return x\n",
        "\n",
        "device = torch.device(\"cuda\" if torch.cuda.is_available() else \"cpu\")\n",
        "num_classes = 16 # Define num_classes before using it\n",
        "model = SimpleCNN(num_classes).to(device)"
      ]
    },
    {
      "cell_type": "code",
      "execution_count": 19,
      "metadata": {
        "id": "uRMJTv9nzvPV"
      },
      "outputs": [],
      "source": [
        "\n",
        "\n",
        "import torch\n",
        "import torch.nn as nn\n",
        "import torch.optim as optim\n",
        "from torch.utils.data import Dataset, DataLoader\n",
        "from torchvision import transforms\n",
        "from PIL import Image\n"
      ]
    },
    {
      "cell_type": "code",
      "metadata": {
        "id": "a7935366"
      },
      "source": [
        "import os\n",
        "from torch.utils.data import Dataset, DataLoader\n",
        "from torchvision import transforms\n",
        "from PIL import Image\n",
        "\n",
        "class TrafficSignsDataset(Dataset):\n",
        "    def __init__(self, img_dir, label_dir, transform=None):\n",
        "        self.img_dir = img_dir\n",
        "        self.label_dir = label_dir\n",
        "        self.transform = transform\n",
        "        self.images = os.listdir(img_dir)\n",
        "\n",
        "    def __len__(self):\n",
        "        return len(self.images)\n",
        "\n",
        "    def __getitem__(self, idx):\n",
        "        img_name = self.images[idx]\n",
        "        img_path = os.path.join(self.img_dir, img_name)\n",
        "        image = Image.open(img_path).convert(\"RGB\")\n",
        "\n",
        "\n",
        "        label_path = os.path.join(self.label_dir, img_name.replace(\".jpg\", \".txt\"))\n",
        "        with open(label_path, \"r\") as f:\n",
        "            label = int(f.readline().split()[0])\n",
        "\n",
        "        if self.transform:\n",
        "            image = self.transform(image)\n",
        "\n",
        "        return image, label"
      ],
      "execution_count": 20,
      "outputs": []
    },
    {
      "cell_type": "code",
      "metadata": {
        "colab": {
          "base_uri": "https://localhost:8080/"
        },
        "id": "b41a7e9a",
        "outputId": "82813ead-2d84-4c3a-867b-ba03084596e1"
      },
      "source": [
        "train_dataset = TrafficSignsDataset(\n",
        "    img_dir=\"traffic_data/images/train\",\n",
        "    label_dir=\"traffic_data/labels/train\",\n",
        "    transform=transform\n",
        ")\n",
        "\n",
        "val_dataset = TrafficSignsDataset(\n",
        "    img_dir=\"traffic_data/images/val\",\n",
        "    label_dir=\"traffic_data/labels/val\",\n",
        "    transform=transform\n",
        ")\n",
        "\n",
        "train_loader = DataLoader(train_dataset, batch_size=32, shuffle=True)\n",
        "val_loader = DataLoader(val_dataset, batch_size=32)\n",
        "\n",
        "print(\"Train set boyutu:\", len(train_dataset))\n",
        "print(\"Validation set boyutu:\", len(val_dataset))\n",
        "classes = set()\n",
        "for file in os.listdir(\"traffic_data/labels/train\"):\n",
        "    with open(os.path.join(\"traffic_data/labels/train\", file)) as f:\n",
        "        label = int(f.readline().split()[0])\n",
        "        classes.add(label)\n",
        "\n",
        "print(\"Toplam sınıf sayısı:\", len(classes))\n",
        "print(\"Sınıflar:\", classes)"
      ],
      "execution_count": 21,
      "outputs": [
        {
          "output_type": "stream",
          "name": "stdout",
          "text": [
            "Train set boyutu: 12804\n",
            "Validation set boyutu: 3201\n",
            "Toplam sınıf sayısı: 16\n",
            "Sınıflar: {0, 1, 2, 3, 4, 5, 6, 7, 8, 9, 10, 11, 12, 13, 14, 15}\n"
          ]
        }
      ]
    },
    {
      "cell_type": "code",
      "execution_count": 22,
      "metadata": {
        "id": "rdFdX9jgz_dQ"
      },
      "outputs": [],
      "source": [
        "transform = transforms.Compose([\n",
        "    transforms.Resize((64, 64)),\n",
        "    transforms.ToTensor(),\n",
        "    transforms.Normalize((0.5,), (0.5,))\n",
        "])\n"
      ]
    },
    {
      "cell_type": "code",
      "execution_count": 23,
      "metadata": {
        "id": "XM9LvaKl0q_e"
      },
      "outputs": [],
      "source": [
        "class TrafficSignsDataset(Dataset):\n",
        "    def __init__(self, img_dir, label_dir, transform=None):\n",
        "        self.img_dir = img_dir\n",
        "        self.label_dir = label_dir\n",
        "        self.transform = transform\n",
        "        self.images = os.listdir(img_dir)\n",
        "\n",
        "    def __len__(self):\n",
        "        return len(self.images)\n",
        "\n",
        "    def __getitem__(self, idx):\n",
        "        img_name = self.images[idx]\n",
        "        img_path = os.path.join(self.img_dir, img_name)\n",
        "        image = Image.open(img_path).convert(\"RGB\")\n",
        "\n",
        "\n",
        "        label_path = os.path.join(self.label_dir, img_name.replace(\".jpg\", \".txt\"))\n",
        "        with open(label_path, \"r\") as f:\n",
        "            label = int(f.readline().split()[0])\n",
        "\n",
        "        if self.transform:\n",
        "            image = self.transform(image)\n",
        "\n",
        "        return image, label\n"
      ]
    },
    {
      "cell_type": "code",
      "metadata": {
        "id": "96baee64"
      },
      "source": [
        "import matplotlib.pyplot as plt\n",
        "\n",
        "def plot_history(history):\n",
        "    \"\"\"Loss ve accuracy grafiklerini çizer.\n",
        "    :param history: Eğitim geçmişi sözlüğü\n",
        "    :returns: None\n",
        "    \"\"\"\n",
        "    if not isinstance(history, dict) or not history.get('train_loss'):\n",
        "        raise ValueError('history sözlüğü boş ya da hatalı.')\n",
        "    epochs = range(1, len(history['train_loss']) + 1)\n",
        "    plt.figure(figsize=(10, 4))\n",
        "    plt.subplot(1, 2, 1)\n",
        "    plt.plot(list(epochs), history['train_loss'], label='Train Loss')\n",
        "    plt.plot(list(epochs), history['val_loss'], label='Val Loss')\n",
        "    plt.title('Loss')\n",
        "    plt.xlabel('Epoch')\n",
        "    plt.ylabel('Loss')\n",
        "    plt.legend()\n",
        "    plt.subplot(1, 2, 2)\n",
        "    plt.plot(list(epochs), history['train_acc'], label='Train Acc')\n",
        "    plt.plot(list(epochs), history['val_acc'], label='Val Acc')\n",
        "    plt.title('Accuracy')\n",
        "    plt.xlabel('Epoch')\n",
        "    plt.ylabel('Accuracy (%)')\n",
        "    plt.legend()\n",
        "    plt.tight_layout()\n",
        "    plt.show()"
      ],
      "execution_count": 24,
      "outputs": []
    },
    {
      "cell_type": "code",
      "metadata": {
        "id": "d880b5a2"
      },
      "source": [
        "def train_one_epoch(model, loader, criterion, optimizer, device):\n",
        "    \"\"\"Bir epoch boyunca eğitir.\n",
        "    :param model: PyTorch modeli\n",
        "    :param loader: Eğitim DataLoader'ı\n",
        "    :param criterion: Kayıp fonksiyonu\n",
        "    :param optimizer: Optimizasyon nesnesi\n",
        "    :param device: cpu/cuda\n",
        "    :returns: (ortalama_kayıp, doğruluk_yüzdesi)\n",
        "    \"\"\"\n",
        "    model.train()\n",
        "    total_loss, correct, total = 0.0, 0, 0\n",
        "    for images, labels in loader:\n",
        "        images, labels = images.to(device), labels.to(device)\n",
        "        optimizer.zero_grad()\n",
        "        outputs = model(images)\n",
        "        loss = criterion(outputs, labels)\n",
        "        loss.backward()\n",
        "        optimizer.step()\n",
        "        total_loss += float(loss.item()) * images.size(0)\n",
        "        _, preds = outputs.max(1)\n",
        "        correct += int((preds == labels).sum().item())\n",
        "        total += int(labels.size(0))\n",
        "    avg_loss = total_loss / max(1, total)\n",
        "    acc = 100.0 * correct / max(1, total)\n",
        "    return avg_loss, acc\n",
        "\n",
        "\n",
        "def validate_one_epoch(model, loader, criterion, device):\n",
        "    \"\"\"Bir epoch boyunca doğrular.\n",
        "    :param model: PyTorch modeli\n",
        "    :param loader: Doğrulama DataLoader'ı\n",
        "    :param criterion: Kayıp fonksiyonu\n",
        "    :param device: cpu/cuda\n",
        "    :returns: (ortalama_kayıp, doğruluk_yüzdesi)\n",
        "    \"\"\"\n",
        "    model.eval()\n",
        "    total_loss, correct, total = 0.0, 0, 0\n",
        "    with torch.no_grad():\n",
        "        for images, labels in loader:\n",
        "            images, labels = images.to(device), labels.to(device)\n",
        "            outputs = model(images)\n",
        "            loss = criterion(outputs, labels)\n",
        "            total_loss += float(loss.item()) * images.size(0)\n",
        "            _, preds = outputs.max(1)\n",
        "            correct += int((preds == labels).sum().item())\n",
        "            total += int(labels.size(0))\n",
        "    avg_loss = total_loss / max(1, total)\n",
        "    acc = 100.0 * correct / max(1, total)\n",
        "    return avg_loss, acc\n",
        "\n",
        "\n",
        "def train_model(model, train_loader, val_loader, criterion, optimizer, device, num_epochs=10):\n",
        "    \"\"\"Modeli birkaç epoch eğitir ve geçmişi döner.\n",
        "    :param model: PyTorch modeli\n",
        "    :param train_loader: Eğitim DataLoader'ı\n",
        "    :param val_loader: Doğrulama DataLoader'ı\n",
        "    :param criterion: Kayıp fonksiyonu\n",
        "    :param optimizer: Optimizasyon nesnesi\n",
        "    :param device: cpu/cuda\n",
        "    :param num_epochs: Epoch sayısı\n",
        "    :returns: {'train_loss', 'val_loss', 'train_acc', 'val_acc'} listeleri\n",
        "    \"\"\"\n",
        "    history = {\"train_loss\": [], \"val_loss\": [], \"train_acc\": [], \"val_acc\": []}\n",
        "    for epoch in range(num_epochs):\n",
        "        tr_loss, tr_acc = train_one_epoch(model, train_loader, criterion, optimizer, device)\n",
        "        va_loss, va_acc = validate_one_epoch(model, val_loader, criterion, device)\n",
        "        history[\"train_loss\"].append(tr_loss)\n",
        "        history[\"val_loss\"].append(va_loss)\n",
        "        history[\"train_acc\"].append(tr_acc)\n",
        "        history[\"val_acc\"].append(va_acc)\n",
        "        print(f\"Epoch {epoch+1}/{num_epochs} \"\n",
        "              f\"Train Loss: {tr_loss:.4f}, Train Acc: {tr_acc:.2f}% \"\n",
        "              f\"Val Loss: {va_loss:.4f}, Val Acc: {va_acc:.2f}%\")\n",
        "    return history"
      ],
      "execution_count": 25,
      "outputs": []
    },
    {
      "cell_type": "code",
      "metadata": {
        "id": "c1333dba"
      },
      "source": [
        "criterion = nn.CrossEntropyLoss()\n",
        "optimizer = optim.Adam(model.parameters(), lr=1e-3, weight_decay=1e-4)"
      ],
      "execution_count": 26,
      "outputs": []
    },
    {
      "cell_type": "code",
      "metadata": {
        "colab": {
          "base_uri": "https://localhost:8080/",
          "height": 754
        },
        "id": "f5378982",
        "outputId": "8849bfff-058a-4a4f-966b-cf957c2aadab"
      },
      "source": [
        "history = train_model(model, train_loader, val_loader,\n",
        "                      criterion, optimizer, device, num_epochs=20)\n",
        "plot_history(history)"
      ],
      "execution_count": 27,
      "outputs": [
        {
          "output_type": "stream",
          "name": "stdout",
          "text": [
            "Epoch 1/20 Train Loss: 1.6049, Train Acc: 50.19% Val Loss: 1.2707, Val Acc: 59.11%\n",
            "Epoch 2/20 Train Loss: 1.0080, Train Acc: 67.10% Val Loss: 1.2541, Val Acc: 60.17%\n",
            "Epoch 3/20 Train Loss: 0.7459, Train Acc: 74.72% Val Loss: 1.3322, Val Acc: 59.51%\n",
            "Epoch 4/20 Train Loss: 0.5560, Train Acc: 81.29% Val Loss: 1.4255, Val Acc: 60.79%\n",
            "Epoch 5/20 Train Loss: 0.4314, Train Acc: 85.91% Val Loss: 1.4792, Val Acc: 62.01%\n",
            "Epoch 6/20 Train Loss: 0.3513, Train Acc: 88.75% Val Loss: 1.5127, Val Acc: 62.70%\n",
            "Epoch 7/20 Train Loss: 0.2986, Train Acc: 90.38% Val Loss: 1.5965, Val Acc: 62.32%\n",
            "Epoch 8/20 Train Loss: 0.2433, Train Acc: 92.44% Val Loss: 1.7075, Val Acc: 62.01%\n",
            "Epoch 9/20 Train Loss: 0.2404, Train Acc: 92.48% Val Loss: 1.7853, Val Acc: 62.07%\n",
            "Epoch 10/20 Train Loss: 0.2158, Train Acc: 93.40% Val Loss: 1.8343, Val Acc: 62.64%\n",
            "Epoch 11/20 Train Loss: 0.1965, Train Acc: 94.05% Val Loss: 1.9140, Val Acc: 61.26%\n",
            "Epoch 12/20 Train Loss: 0.1931, Train Acc: 94.20% Val Loss: 1.9242, Val Acc: 60.82%\n",
            "Epoch 13/20 Train Loss: 0.1832, Train Acc: 94.23% Val Loss: 2.0167, Val Acc: 61.64%\n",
            "Epoch 14/20 Train Loss: 0.1672, Train Acc: 94.95% Val Loss: 1.9992, Val Acc: 61.23%\n",
            "Epoch 15/20 Train Loss: 0.1574, Train Acc: 95.49% Val Loss: 2.0487, Val Acc: 61.76%\n",
            "Epoch 16/20 Train Loss: 0.1478, Train Acc: 95.55% Val Loss: 2.0346, Val Acc: 61.95%\n",
            "Epoch 17/20 Train Loss: 0.1506, Train Acc: 95.61% Val Loss: 2.0761, Val Acc: 62.01%\n",
            "Epoch 18/20 Train Loss: 0.1440, Train Acc: 95.98% Val Loss: 2.0495, Val Acc: 61.29%\n",
            "Epoch 19/20 Train Loss: 0.1461, Train Acc: 95.70% Val Loss: 2.1480, Val Acc: 61.98%\n",
            "Epoch 20/20 Train Loss: 0.1538, Train Acc: 95.49% Val Loss: 2.1460, Val Acc: 61.82%\n"
          ]
        },
        {
          "output_type": "display_data",
          "data": {
            "text/plain": [
              "<Figure size 1000x400 with 2 Axes>"
            ],
            "image/png": "[encoded data removed]"
          },
          "metadata": {}
        }
      ]
    },
    {
      "cell_type": "code",
      "metadata": {
        "id": "10206c96"
      },
      "source": [
        "from sklearn.metrics import confusion_matrix, classification_report\n",
        "import numpy as np\n",
        "\n",
        "def evaluate_and_confusion(model, loader, device, class_names):\n",
        "    \"\"\"Modeli doğrular, karmaşıklık matrisi ve sınıflandırma raporu döner.\n",
        "    :param model: PyTorch modeli\n",
        "    :param loader: Doğrulama DataLoader'ı\n",
        "    :param device: cpu/cuda\n",
        "    :param class_names: Sınıf isimlerinin listesi\n",
        "    :returns: (gerçek_etiketler, tahmin_etiketler, karmaşıklık_matrisi, sınıflandırma_raporu)\n",
        "    \"\"\"\n",
        "    model.eval()\n",
        "    y_true = []\n",
        "    y_pred = []\n",
        "    with torch.no_grad():\n",
        "        for images, labels in loader:\n",
        "            images = images.to(device)\n",
        "            labels = labels.to(device)\n",
        "            outputs = model(images)\n",
        "            _, preds = torch.max(outputs, 1)\n",
        "            y_true.extend(labels.cpu().numpy())\n",
        "            y_pred.extend(preds.cpu().numpy())\n",
        "\n",
        "    cm = confusion_matrix(y_true, y_pred)\n",
        "    cr = classification_report(y_true, y_pred, target_names=class_names, zero_division=0)\n",
        "\n",
        "    print(\"Karmaşıklık Matrisi:\")\n",
        "    print(cm)\n",
        "    print(\"\\nSınıflandırma Raporu:\")\n",
        "    print(cr)\n",
        "\n",
        "    return y_true, y_pred, cm, cr"
      ],
      "execution_count": 28,
      "outputs": []
    },
    {
      "cell_type": "code",
      "metadata": {
        "colab": {
          "base_uri": "https://localhost:8080/"
        },
        "id": "cdcb2b41",
        "outputId": "a588217e-ecca-44b8-c39a-2c17932286f4"
      },
      "source": [
        "class_names = [str(i) for i in range(num_classes)]\n",
        "y_true, y_pred, cm, cr = evaluate_and_confusion(model, val_loader, device, class_names)"
      ],
      "execution_count": 29,
      "outputs": [
        {
          "output_type": "stream",
          "name": "stdout",
          "text": [
            "Karmaşıklık Matrisi:\n",
            "[[ 47   3   0   0   4   9   2   0   0   3   5   2   0   0   0   1]\n",
            " [  2  44   3   0  10   2   1   6   1   2  15   9   0   0  18   2]\n",
            " [  2   3  79   5   9   5   2   7   1   4   3  14   1   0   6   7]\n",
            " [  2   3   0 250  14   3   2   7  16   3   0  19   0  14   5   0]\n",
            " [ 12   5   9   9 372   5   3   8   9   7  21  30   0   1  29   5]\n",
            " [ 11   5   0   1   5  68   6   4   2   3   6  23   0   0   6   2]\n",
            " [  0   0   3   1   7   4  74  11   4   7   0  36   1  10   7   6]\n",
            " [  0   3   6   1  10   5   4  42   3   1   4  18   8   0   8   6]\n",
            " [  3   1   0   4  10   0   4   1 136  20   0  11   0   1   2   3]\n",
            " [  0   1   2   2   9   0   5   6  21  61   0  25   0   6   9   1]\n",
            " [  6   5   3   0   9   3   2   0   0   2  61   5   0   0   0   0]\n",
            " [  1   4   6   4  15   5   5   6   1  10   6 187   0   4  28   2]\n",
            " [  0   0   0   0   0   0   0   1   0   0   1   1   5   0   0   1]\n",
            " [  0   0   0  12   1   1   2   0   0   5   1  31   0  38   5   0]\n",
            " [  3   9   5   5  40  10   4  10   3  11   1  59   0   1 488   5]\n",
            " [  1   1   1   3   8   2   6  13   1   6   2   7   1   0   5  27]]\n",
            "\n",
            "Sınıflandırma Raporu:\n",
            "              precision    recall  f1-score   support\n",
            "\n",
            "           0       0.52      0.62      0.57        76\n",
            "           1       0.51      0.38      0.44       115\n",
            "           2       0.68      0.53      0.60       148\n",
            "           3       0.84      0.74      0.79       338\n",
            "           4       0.71      0.71      0.71       525\n",
            "           5       0.56      0.48      0.52       142\n",
            "           6       0.61      0.43      0.51       171\n",
            "           7       0.34      0.35      0.35       119\n",
            "           8       0.69      0.69      0.69       196\n",
            "           9       0.42      0.41      0.42       148\n",
            "          10       0.48      0.64      0.55        96\n",
            "          11       0.39      0.66      0.49       284\n",
            "          12       0.31      0.56      0.40         9\n",
            "          13       0.51      0.40      0.44        96\n",
            "          14       0.79      0.75      0.77       654\n",
            "          15       0.40      0.32      0.36        84\n",
            "\n",
            "    accuracy                           0.62      3201\n",
            "   macro avg       0.55      0.54      0.54      3201\n",
            "weighted avg       0.64      0.62      0.62      3201\n",
            "\n"
          ]
        }
      ]
    },
    {
      "cell_type": "code",
      "source": [
        "train_loader_bs16 = DataLoader(train_dataset, batch_size=16, shuffle=True)\n",
        "val_loader_bs16   = DataLoader(val_dataset, batch_size=16, shuffle=False)\n",
        "\n",
        "history_bs16 = train_model(model, train_loader_bs16, val_loader_bs16,\n",
        "                           criterion, optimizer, device, num_epochs=5)\n",
        "\n",
        "plot_history(history_bs16)"
      ],
      "metadata": {
        "colab": {
          "base_uri": "https://localhost:8080/",
          "height": 494
        },
        "id": "JCcco3djAUhT",
        "outputId": "3f26facd-65cd-429e-e854-263a3fbf0a28"
      },
      "execution_count": 31,
      "outputs": [
        {
          "output_type": "stream",
          "name": "stdout",
          "text": [
            "Epoch 1/5 Train Loss: 0.2754, Train Acc: 91.67% Val Loss: 2.1646, Val Acc: 60.48%\n",
            "Epoch 2/5 Train Loss: 0.1881, Train Acc: 94.74% Val Loss: 2.1620, Val Acc: 61.20%\n",
            "Epoch 3/5 Train Loss: 0.1632, Train Acc: 95.31% Val Loss: 2.2503, Val Acc: 60.70%\n",
            "Epoch 4/5 Train Loss: 0.1500, Train Acc: 95.65% Val Loss: 2.3307, Val Acc: 60.98%\n",
            "Epoch 5/5 Train Loss: 0.1563, Train Acc: 95.53% Val Loss: 2.1935, Val Acc: 60.86%\n"
          ]
        },
        {
          "output_type": "display_data",
          "data": {
            "text/plain": [
              "<Figure size 1000x400 with 2 Axes>"
            ],
            "image/png": "[encoded data removed]"
          },
          "metadata": {}
        }
      ]
    }
  ],
  "metadata": {
    "colab": {
      "provenance": []
    },
    "kernelspec": {
      "display_name": "Python 3",
      "name": "python3"
    },
    "language_info": {
      "name": "python"
    }
  },
  "nbformat": 4,
  "nbformat_minor": 0
}